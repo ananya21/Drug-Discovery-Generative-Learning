{
  "nbformat": 4,
  "nbformat_minor": 0,
  "metadata": {
    "colab": {
      "provenance": [],
      "authorship_tag": "ABX9TyMgJLsRogZu9dJ/X4WAl3KK",
      "include_colab_link": true
    },
    "kernelspec": {
      "name": "python3",
      "display_name": "Python 3"
    },
    "language_info": {
      "name": "python"
    }
  },
  "cells": [
    {
      "cell_type": "markdown",
      "metadata": {
        "id": "view-in-github",
        "colab_type": "text"
      },
      "source": [
        "<a href=\"https://colab.research.google.com/github/ananya21/Drug-Discovery-Generative-Learning/blob/main/Drug_Discovery_Generative_Learning.ipynb\" target=\"_parent\"><img src=\"https://colab.research.google.com/assets/colab-badge.svg\" alt=\"Open In Colab\"/></a>"
      ]
    },
    {
      "cell_type": "code",
      "source": [
        "!pip install --upgrade tensorflow\n",
        "\n",
        "import tensorflow as tf\n",
        "from tensorflow.keras.layers import LSTM"
      ],
      "metadata": {
        "colab": {
          "base_uri": "https://localhost:8080/"
        },
        "id": "LuPxPVviHNtv",
        "outputId": "fd270722-4f5a-4e17-cbe4-9551f4701ed3"
      },
      "execution_count": 4,
      "outputs": [
        {
          "output_type": "stream",
          "name": "stdout",
          "text": [
            "Requirement already satisfied: tensorflow in /usr/local/lib/python3.10/dist-packages (2.16.1)\n",
            "Requirement already satisfied: absl-py>=1.0.0 in /usr/local/lib/python3.10/dist-packages (from tensorflow) (1.4.0)\n",
            "Requirement already satisfied: astunparse>=1.6.0 in /usr/local/lib/python3.10/dist-packages (from tensorflow) (1.6.3)\n",
            "Requirement already satisfied: flatbuffers>=23.5.26 in /usr/local/lib/python3.10/dist-packages (from tensorflow) (24.3.25)\n",
            "Requirement already satisfied: gast!=0.5.0,!=0.5.1,!=0.5.2,>=0.2.1 in /usr/local/lib/python3.10/dist-packages (from tensorflow) (0.5.4)\n",
            "Requirement already satisfied: google-pasta>=0.1.1 in /usr/local/lib/python3.10/dist-packages (from tensorflow) (0.2.0)\n",
            "Requirement already satisfied: h5py>=3.10.0 in /usr/local/lib/python3.10/dist-packages (from tensorflow) (3.10.0)\n",
            "Requirement already satisfied: libclang>=13.0.0 in /usr/local/lib/python3.10/dist-packages (from tensorflow) (18.1.1)\n",
            "Requirement already satisfied: ml-dtypes~=0.3.1 in /usr/local/lib/python3.10/dist-packages (from tensorflow) (0.3.2)\n",
            "Requirement already satisfied: opt-einsum>=2.3.2 in /usr/local/lib/python3.10/dist-packages (from tensorflow) (3.3.0)\n",
            "Requirement already satisfied: packaging in /usr/local/lib/python3.10/dist-packages (from tensorflow) (24.0)\n",
            "Requirement already satisfied: protobuf!=4.21.0,!=4.21.1,!=4.21.2,!=4.21.3,!=4.21.4,!=4.21.5,<5.0.0dev,>=3.20.3 in /usr/local/lib/python3.10/dist-packages (from tensorflow) (3.20.3)\n",
            "Requirement already satisfied: requests<3,>=2.21.0 in /usr/local/lib/python3.10/dist-packages (from tensorflow) (2.31.0)\n",
            "Requirement already satisfied: setuptools in /usr/local/lib/python3.10/dist-packages (from tensorflow) (67.7.2)\n",
            "Requirement already satisfied: six>=1.12.0 in /usr/local/lib/python3.10/dist-packages (from tensorflow) (1.16.0)\n",
            "Requirement already satisfied: termcolor>=1.1.0 in /usr/local/lib/python3.10/dist-packages (from tensorflow) (2.4.0)\n",
            "Requirement already satisfied: typing-extensions>=3.6.6 in /usr/local/lib/python3.10/dist-packages (from tensorflow) (4.10.0)\n",
            "Requirement already satisfied: wrapt>=1.11.0 in /usr/local/lib/python3.10/dist-packages (from tensorflow) (1.14.1)\n",
            "Requirement already satisfied: grpcio<2.0,>=1.24.3 in /usr/local/lib/python3.10/dist-packages (from tensorflow) (1.62.1)\n",
            "Requirement already satisfied: tensorboard<2.17,>=2.16 in /usr/local/lib/python3.10/dist-packages (from tensorflow) (2.16.2)\n",
            "Requirement already satisfied: keras>=3.0.0 in /usr/local/lib/python3.10/dist-packages (from tensorflow) (3.1.1)\n",
            "Requirement already satisfied: tensorflow-io-gcs-filesystem>=0.23.1 in /usr/local/lib/python3.10/dist-packages (from tensorflow) (0.36.0)\n",
            "Requirement already satisfied: numpy<2.0.0,>=1.23.5 in /usr/local/lib/python3.10/dist-packages (from tensorflow) (1.25.2)\n",
            "Requirement already satisfied: wheel<1.0,>=0.23.0 in /usr/local/lib/python3.10/dist-packages (from astunparse>=1.6.0->tensorflow) (0.43.0)\n",
            "Requirement already satisfied: rich in /usr/local/lib/python3.10/dist-packages (from keras>=3.0.0->tensorflow) (13.7.1)\n",
            "Requirement already satisfied: namex in /usr/local/lib/python3.10/dist-packages (from keras>=3.0.0->tensorflow) (0.0.7)\n",
            "Requirement already satisfied: optree in /usr/local/lib/python3.10/dist-packages (from keras>=3.0.0->tensorflow) (0.11.0)\n",
            "Requirement already satisfied: charset-normalizer<4,>=2 in /usr/local/lib/python3.10/dist-packages (from requests<3,>=2.21.0->tensorflow) (3.3.2)\n",
            "Requirement already satisfied: idna<4,>=2.5 in /usr/local/lib/python3.10/dist-packages (from requests<3,>=2.21.0->tensorflow) (3.6)\n",
            "Requirement already satisfied: urllib3<3,>=1.21.1 in /usr/local/lib/python3.10/dist-packages (from requests<3,>=2.21.0->tensorflow) (2.0.7)\n",
            "Requirement already satisfied: certifi>=2017.4.17 in /usr/local/lib/python3.10/dist-packages (from requests<3,>=2.21.0->tensorflow) (2024.2.2)\n",
            "Requirement already satisfied: markdown>=2.6.8 in /usr/local/lib/python3.10/dist-packages (from tensorboard<2.17,>=2.16->tensorflow) (3.6)\n",
            "Requirement already satisfied: tensorboard-data-server<0.8.0,>=0.7.0 in /usr/local/lib/python3.10/dist-packages (from tensorboard<2.17,>=2.16->tensorflow) (0.7.2)\n",
            "Requirement already satisfied: werkzeug>=1.0.1 in /usr/local/lib/python3.10/dist-packages (from tensorboard<2.17,>=2.16->tensorflow) (3.0.2)\n",
            "Requirement already satisfied: MarkupSafe>=2.1.1 in /usr/local/lib/python3.10/dist-packages (from werkzeug>=1.0.1->tensorboard<2.17,>=2.16->tensorflow) (2.1.5)\n",
            "Requirement already satisfied: markdown-it-py>=2.2.0 in /usr/local/lib/python3.10/dist-packages (from rich->keras>=3.0.0->tensorflow) (3.0.0)\n",
            "Requirement already satisfied: pygments<3.0.0,>=2.13.0 in /usr/local/lib/python3.10/dist-packages (from rich->keras>=3.0.0->tensorflow) (2.16.1)\n",
            "Requirement already satisfied: mdurl~=0.1 in /usr/local/lib/python3.10/dist-packages (from markdown-it-py>=2.2.0->rich->keras>=3.0.0->tensorflow) (0.1.2)\n"
          ]
        }
      ]
    },
    {
      "cell_type": "code",
      "execution_count": 5,
      "metadata": {
        "id": "k9P_JJuv1neA"
      },
      "outputs": [],
      "source": [
        "import tensorflow as tf\n",
        "from tensorflow.keras import layers\n",
        "from tensorflow.keras.layers import LSTM, Dense, Reshape\n",
        "\n",
        "def build_generator(latent_dim, sequence_length, vocab_size):\n",
        "    model = tf.keras.Sequential([\n",
        "        # Start with a Dense layer to map the latent noise vector to a shape that can be reshaped into what the LSTM expects\n",
        "        layers.Dense(sequence_length * vocab_size, input_dim=latent_dim),\n",
        "        layers.Reshape((sequence_length, vocab_size)),\n",
        "        layers.LSTM(256, return_sequences=True),\n",
        "        layers.LSTM(256, return_sequences=True),\n",
        "        layers.TimeDistributed(layers.Dense(vocab_size, activation='softmax')),\n",
        "    ])\n",
        "    return model\n",
        "\n",
        "def build_discriminator(sequence_length, vocab_size):\n",
        "    model = tf.keras.Sequential([\n",
        "        layers.Input(shape=(sequence_length, 31)),\n",
        "        layers.LSTM(256, return_sequences=True),\n",
        "        layers.LSTM(256),\n",
        "        layers.Dense(1, activation='sigmoid')\n",
        "    ])\n",
        "    return model\n"
      ]
    },
    {
      "cell_type": "code",
      "source": [
        "latent_dim = 217\n",
        "sequence_length = 217\n",
        "vocab_size = 31\n",
        "\n",
        "# Instantiate and compile models\n",
        "generator = build_generator(latent_dim, sequence_length, vocab_size)\n",
        "discriminator = build_discriminator(sequence_length, vocab_size)"
      ],
      "metadata": {
        "id": "NXN1Xdw3xhmF",
        "colab": {
          "base_uri": "https://localhost:8080/"
        },
        "outputId": "e1c68834-a77b-4388-cf4a-157ca3ca6f1d"
      },
      "execution_count": 6,
      "outputs": [
        {
          "output_type": "stream",
          "name": "stderr",
          "text": [
            "/usr/local/lib/python3.10/dist-packages/keras/src/layers/core/dense.py:88: UserWarning: Do not pass an `input_shape`/`input_dim` argument to a layer. When using Sequential models, prefer using an `Input(shape)` object as the first layer in the model instead.\n",
            "  super().__init__(activity_regularizer=activity_regularizer, **kwargs)\n"
          ]
        }
      ]
    },
    {
      "cell_type": "code",
      "source": [
        "generator.summary()"
      ],
      "metadata": {
        "colab": {
          "base_uri": "https://localhost:8080/",
          "height": 298
        },
        "id": "spb2MqHZpBQE",
        "outputId": "e2327c48-9557-4a56-d7ce-9ef3eb35d059"
      },
      "execution_count": 7,
      "outputs": [
        {
          "output_type": "display_data",
          "data": {
            "text/plain": [
              "\u001b[1mModel: \"sequential\"\u001b[0m\n"
            ],
            "text/html": [
              "<pre style=\"white-space:pre;overflow-x:auto;line-height:normal;font-family:Menlo,'DejaVu Sans Mono',consolas,'Courier New',monospace\"><span style=\"font-weight: bold\">Model: \"sequential\"</span>\n",
              "</pre>\n"
            ]
          },
          "metadata": {}
        },
        {
          "output_type": "display_data",
          "data": {
            "text/plain": [
              "┏━━━━━━━━━━━━━━━━━━━━━━━━━━━━━━━━━━━━━━┳━━━━━━━━━━━━━━━━━━━━━━━━━━━━━┳━━━━━━━━━━━━━━━━━┓\n",
              "┃\u001b[1m \u001b[0m\u001b[1mLayer (type)                        \u001b[0m\u001b[1m \u001b[0m┃\u001b[1m \u001b[0m\u001b[1mOutput Shape               \u001b[0m\u001b[1m \u001b[0m┃\u001b[1m \u001b[0m\u001b[1m        Param #\u001b[0m\u001b[1m \u001b[0m┃\n",
              "┡━━━━━━━━━━━━━━━━━━━━━━━━━━━━━━━━━━━━━━╇━━━━━━━━━━━━━━━━━━━━━━━━━━━━━╇━━━━━━━━━━━━━━━━━┩\n",
              "│ dense (\u001b[38;5;33mDense\u001b[0m)                        │ (\u001b[38;5;45mNone\u001b[0m, \u001b[38;5;34m6727\u001b[0m)                │       \u001b[38;5;34m1,466,486\u001b[0m │\n",
              "├──────────────────────────────────────┼─────────────────────────────┼─────────────────┤\n",
              "│ reshape (\u001b[38;5;33mReshape\u001b[0m)                    │ (\u001b[38;5;45mNone\u001b[0m, \u001b[38;5;34m217\u001b[0m, \u001b[38;5;34m31\u001b[0m)             │               \u001b[38;5;34m0\u001b[0m │\n",
              "├──────────────────────────────────────┼─────────────────────────────┼─────────────────┤\n",
              "│ lstm (\u001b[38;5;33mLSTM\u001b[0m)                          │ (\u001b[38;5;45mNone\u001b[0m, \u001b[38;5;34m217\u001b[0m, \u001b[38;5;34m256\u001b[0m)            │         \u001b[38;5;34m294,912\u001b[0m │\n",
              "├──────────────────────────────────────┼─────────────────────────────┼─────────────────┤\n",
              "│ lstm_1 (\u001b[38;5;33mLSTM\u001b[0m)                        │ (\u001b[38;5;45mNone\u001b[0m, \u001b[38;5;34m217\u001b[0m, \u001b[38;5;34m256\u001b[0m)            │         \u001b[38;5;34m525,312\u001b[0m │\n",
              "├──────────────────────────────────────┼─────────────────────────────┼─────────────────┤\n",
              "│ time_distributed (\u001b[38;5;33mTimeDistributed\u001b[0m)   │ (\u001b[38;5;45mNone\u001b[0m, \u001b[38;5;34m217\u001b[0m, \u001b[38;5;34m31\u001b[0m)             │           \u001b[38;5;34m7,967\u001b[0m │\n",
              "└──────────────────────────────────────┴─────────────────────────────┴─────────────────┘\n"
            ],
            "text/html": [
              "<pre style=\"white-space:pre;overflow-x:auto;line-height:normal;font-family:Menlo,'DejaVu Sans Mono',consolas,'Courier New',monospace\">┏━━━━━━━━━━━━━━━━━━━━━━━━━━━━━━━━━━━━━━┳━━━━━━━━━━━━━━━━━━━━━━━━━━━━━┳━━━━━━━━━━━━━━━━━┓\n",
              "┃<span style=\"font-weight: bold\"> Layer (type)                         </span>┃<span style=\"font-weight: bold\"> Output Shape                </span>┃<span style=\"font-weight: bold\">         Param # </span>┃\n",
              "┡━━━━━━━━━━━━━━━━━━━━━━━━━━━━━━━━━━━━━━╇━━━━━━━━━━━━━━━━━━━━━━━━━━━━━╇━━━━━━━━━━━━━━━━━┩\n",
              "│ dense (<span style=\"color: #0087ff; text-decoration-color: #0087ff\">Dense</span>)                        │ (<span style=\"color: #00d7ff; text-decoration-color: #00d7ff\">None</span>, <span style=\"color: #00af00; text-decoration-color: #00af00\">6727</span>)                │       <span style=\"color: #00af00; text-decoration-color: #00af00\">1,466,486</span> │\n",
              "├──────────────────────────────────────┼─────────────────────────────┼─────────────────┤\n",
              "│ reshape (<span style=\"color: #0087ff; text-decoration-color: #0087ff\">Reshape</span>)                    │ (<span style=\"color: #00d7ff; text-decoration-color: #00d7ff\">None</span>, <span style=\"color: #00af00; text-decoration-color: #00af00\">217</span>, <span style=\"color: #00af00; text-decoration-color: #00af00\">31</span>)             │               <span style=\"color: #00af00; text-decoration-color: #00af00\">0</span> │\n",
              "├──────────────────────────────────────┼─────────────────────────────┼─────────────────┤\n",
              "│ lstm (<span style=\"color: #0087ff; text-decoration-color: #0087ff\">LSTM</span>)                          │ (<span style=\"color: #00d7ff; text-decoration-color: #00d7ff\">None</span>, <span style=\"color: #00af00; text-decoration-color: #00af00\">217</span>, <span style=\"color: #00af00; text-decoration-color: #00af00\">256</span>)            │         <span style=\"color: #00af00; text-decoration-color: #00af00\">294,912</span> │\n",
              "├──────────────────────────────────────┼─────────────────────────────┼─────────────────┤\n",
              "│ lstm_1 (<span style=\"color: #0087ff; text-decoration-color: #0087ff\">LSTM</span>)                        │ (<span style=\"color: #00d7ff; text-decoration-color: #00d7ff\">None</span>, <span style=\"color: #00af00; text-decoration-color: #00af00\">217</span>, <span style=\"color: #00af00; text-decoration-color: #00af00\">256</span>)            │         <span style=\"color: #00af00; text-decoration-color: #00af00\">525,312</span> │\n",
              "├──────────────────────────────────────┼─────────────────────────────┼─────────────────┤\n",
              "│ time_distributed (<span style=\"color: #0087ff; text-decoration-color: #0087ff\">TimeDistributed</span>)   │ (<span style=\"color: #00d7ff; text-decoration-color: #00d7ff\">None</span>, <span style=\"color: #00af00; text-decoration-color: #00af00\">217</span>, <span style=\"color: #00af00; text-decoration-color: #00af00\">31</span>)             │           <span style=\"color: #00af00; text-decoration-color: #00af00\">7,967</span> │\n",
              "└──────────────────────────────────────┴─────────────────────────────┴─────────────────┘\n",
              "</pre>\n"
            ]
          },
          "metadata": {}
        },
        {
          "output_type": "display_data",
          "data": {
            "text/plain": [
              "\u001b[1m Total params: \u001b[0m\u001b[38;5;34m2,294,677\u001b[0m (8.75 MB)\n"
            ],
            "text/html": [
              "<pre style=\"white-space:pre;overflow-x:auto;line-height:normal;font-family:Menlo,'DejaVu Sans Mono',consolas,'Courier New',monospace\"><span style=\"font-weight: bold\"> Total params: </span><span style=\"color: #00af00; text-decoration-color: #00af00\">2,294,677</span> (8.75 MB)\n",
              "</pre>\n"
            ]
          },
          "metadata": {}
        },
        {
          "output_type": "display_data",
          "data": {
            "text/plain": [
              "\u001b[1m Trainable params: \u001b[0m\u001b[38;5;34m2,294,677\u001b[0m (8.75 MB)\n"
            ],
            "text/html": [
              "<pre style=\"white-space:pre;overflow-x:auto;line-height:normal;font-family:Menlo,'DejaVu Sans Mono',consolas,'Courier New',monospace\"><span style=\"font-weight: bold\"> Trainable params: </span><span style=\"color: #00af00; text-decoration-color: #00af00\">2,294,677</span> (8.75 MB)\n",
              "</pre>\n"
            ]
          },
          "metadata": {}
        },
        {
          "output_type": "display_data",
          "data": {
            "text/plain": [
              "\u001b[1m Non-trainable params: \u001b[0m\u001b[38;5;34m0\u001b[0m (0.00 B)\n"
            ],
            "text/html": [
              "<pre style=\"white-space:pre;overflow-x:auto;line-height:normal;font-family:Menlo,'DejaVu Sans Mono',consolas,'Courier New',monospace\"><span style=\"font-weight: bold\"> Non-trainable params: </span><span style=\"color: #00af00; text-decoration-color: #00af00\">0</span> (0.00 B)\n",
              "</pre>\n"
            ]
          },
          "metadata": {}
        }
      ]
    },
    {
      "cell_type": "code",
      "source": [
        "discriminator.summary()"
      ],
      "metadata": {
        "colab": {
          "base_uri": "https://localhost:8080/",
          "height": 232
        },
        "id": "uitt1fyio39l",
        "outputId": "6001af34-f976-401f-ea99-fae0cc65aeaa"
      },
      "execution_count": 8,
      "outputs": [
        {
          "output_type": "display_data",
          "data": {
            "text/plain": [
              "\u001b[1mModel: \"sequential_1\"\u001b[0m\n"
            ],
            "text/html": [
              "<pre style=\"white-space:pre;overflow-x:auto;line-height:normal;font-family:Menlo,'DejaVu Sans Mono',consolas,'Courier New',monospace\"><span style=\"font-weight: bold\">Model: \"sequential_1\"</span>\n",
              "</pre>\n"
            ]
          },
          "metadata": {}
        },
        {
          "output_type": "display_data",
          "data": {
            "text/plain": [
              "┏━━━━━━━━━━━━━━━━━━━━━━━━━━━━━━━━━━━━━━┳━━━━━━━━━━━━━━━━━━━━━━━━━━━━━┳━━━━━━━━━━━━━━━━━┓\n",
              "┃\u001b[1m \u001b[0m\u001b[1mLayer (type)                        \u001b[0m\u001b[1m \u001b[0m┃\u001b[1m \u001b[0m\u001b[1mOutput Shape               \u001b[0m\u001b[1m \u001b[0m┃\u001b[1m \u001b[0m\u001b[1m        Param #\u001b[0m\u001b[1m \u001b[0m┃\n",
              "┡━━━━━━━━━━━━━━━━━━━━━━━━━━━━━━━━━━━━━━╇━━━━━━━━━━━━━━━━━━━━━━━━━━━━━╇━━━━━━━━━━━━━━━━━┩\n",
              "│ lstm_2 (\u001b[38;5;33mLSTM\u001b[0m)                        │ (\u001b[38;5;45mNone\u001b[0m, \u001b[38;5;34m217\u001b[0m, \u001b[38;5;34m256\u001b[0m)            │         \u001b[38;5;34m294,912\u001b[0m │\n",
              "├──────────────────────────────────────┼─────────────────────────────┼─────────────────┤\n",
              "│ lstm_3 (\u001b[38;5;33mLSTM\u001b[0m)                        │ (\u001b[38;5;45mNone\u001b[0m, \u001b[38;5;34m256\u001b[0m)                 │         \u001b[38;5;34m525,312\u001b[0m │\n",
              "├──────────────────────────────────────┼─────────────────────────────┼─────────────────┤\n",
              "│ dense_2 (\u001b[38;5;33mDense\u001b[0m)                      │ (\u001b[38;5;45mNone\u001b[0m, \u001b[38;5;34m1\u001b[0m)                   │             \u001b[38;5;34m257\u001b[0m │\n",
              "└──────────────────────────────────────┴─────────────────────────────┴─────────────────┘\n"
            ],
            "text/html": [
              "<pre style=\"white-space:pre;overflow-x:auto;line-height:normal;font-family:Menlo,'DejaVu Sans Mono',consolas,'Courier New',monospace\">┏━━━━━━━━━━━━━━━━━━━━━━━━━━━━━━━━━━━━━━┳━━━━━━━━━━━━━━━━━━━━━━━━━━━━━┳━━━━━━━━━━━━━━━━━┓\n",
              "┃<span style=\"font-weight: bold\"> Layer (type)                         </span>┃<span style=\"font-weight: bold\"> Output Shape                </span>┃<span style=\"font-weight: bold\">         Param # </span>┃\n",
              "┡━━━━━━━━━━━━━━━━━━━━━━━━━━━━━━━━━━━━━━╇━━━━━━━━━━━━━━━━━━━━━━━━━━━━━╇━━━━━━━━━━━━━━━━━┩\n",
              "│ lstm_2 (<span style=\"color: #0087ff; text-decoration-color: #0087ff\">LSTM</span>)                        │ (<span style=\"color: #00d7ff; text-decoration-color: #00d7ff\">None</span>, <span style=\"color: #00af00; text-decoration-color: #00af00\">217</span>, <span style=\"color: #00af00; text-decoration-color: #00af00\">256</span>)            │         <span style=\"color: #00af00; text-decoration-color: #00af00\">294,912</span> │\n",
              "├──────────────────────────────────────┼─────────────────────────────┼─────────────────┤\n",
              "│ lstm_3 (<span style=\"color: #0087ff; text-decoration-color: #0087ff\">LSTM</span>)                        │ (<span style=\"color: #00d7ff; text-decoration-color: #00d7ff\">None</span>, <span style=\"color: #00af00; text-decoration-color: #00af00\">256</span>)                 │         <span style=\"color: #00af00; text-decoration-color: #00af00\">525,312</span> │\n",
              "├──────────────────────────────────────┼─────────────────────────────┼─────────────────┤\n",
              "│ dense_2 (<span style=\"color: #0087ff; text-decoration-color: #0087ff\">Dense</span>)                      │ (<span style=\"color: #00d7ff; text-decoration-color: #00d7ff\">None</span>, <span style=\"color: #00af00; text-decoration-color: #00af00\">1</span>)                   │             <span style=\"color: #00af00; text-decoration-color: #00af00\">257</span> │\n",
              "└──────────────────────────────────────┴─────────────────────────────┴─────────────────┘\n",
              "</pre>\n"
            ]
          },
          "metadata": {}
        },
        {
          "output_type": "display_data",
          "data": {
            "text/plain": [
              "\u001b[1m Total params: \u001b[0m\u001b[38;5;34m820,481\u001b[0m (3.13 MB)\n"
            ],
            "text/html": [
              "<pre style=\"white-space:pre;overflow-x:auto;line-height:normal;font-family:Menlo,'DejaVu Sans Mono',consolas,'Courier New',monospace\"><span style=\"font-weight: bold\"> Total params: </span><span style=\"color: #00af00; text-decoration-color: #00af00\">820,481</span> (3.13 MB)\n",
              "</pre>\n"
            ]
          },
          "metadata": {}
        },
        {
          "output_type": "display_data",
          "data": {
            "text/plain": [
              "\u001b[1m Trainable params: \u001b[0m\u001b[38;5;34m820,481\u001b[0m (3.13 MB)\n"
            ],
            "text/html": [
              "<pre style=\"white-space:pre;overflow-x:auto;line-height:normal;font-family:Menlo,'DejaVu Sans Mono',consolas,'Courier New',monospace\"><span style=\"font-weight: bold\"> Trainable params: </span><span style=\"color: #00af00; text-decoration-color: #00af00\">820,481</span> (3.13 MB)\n",
              "</pre>\n"
            ]
          },
          "metadata": {}
        },
        {
          "output_type": "display_data",
          "data": {
            "text/plain": [
              "\u001b[1m Non-trainable params: \u001b[0m\u001b[38;5;34m0\u001b[0m (0.00 B)\n"
            ],
            "text/html": [
              "<pre style=\"white-space:pre;overflow-x:auto;line-height:normal;font-family:Menlo,'DejaVu Sans Mono',consolas,'Courier New',monospace\"><span style=\"font-weight: bold\"> Non-trainable params: </span><span style=\"color: #00af00; text-decoration-color: #00af00\">0</span> (0.00 B)\n",
              "</pre>\n"
            ]
          },
          "metadata": {}
        }
      ]
    },
    {
      "cell_type": "code",
      "source": [
        "def compile_gan(generator, discriminator, latent_dim):\n",
        "    # Make the discriminator not trainable when we are training the generator.\n",
        "    discriminator.trainable = False\n",
        "\n",
        "    # Input for the generator\n",
        "    gan_input = layers.Input(shape=(latent_dim,))\n",
        "\n",
        "    generator_output = generator(gan_input)\n",
        "\n",
        "    # Output of the generator\n",
        "    gan_output = discriminator(generator_output)\n",
        "    # GAN model\n",
        "    gan = tf.keras.models.Model(gan_input, gan_output)\n",
        "\n",
        "    # Compile the discriminator\n",
        "    discriminator.compile(optimizer='adam', loss='binary_crossentropy', metrics=['accuracy'])\n",
        "\n",
        "    # Compile the GAN model\n",
        "    gan.compile(optimizer='adam', loss='binary_crossentropy')\n",
        "\n",
        "    return gan\n",
        "\n",
        "gan = compile_gan(generator, discriminator, latent_dim)"
      ],
      "metadata": {
        "id": "gTkgPPzI4DWd"
      },
      "execution_count": 9,
      "outputs": []
    },
    {
      "cell_type": "code",
      "source": [
        "!pip install --upgrade pubchempy\n",
        "!pip install pandas\n",
        "!pip install rdkit"
      ],
      "metadata": {
        "colab": {
          "base_uri": "https://localhost:8080/"
        },
        "id": "bSwPfTxc5KYN",
        "outputId": "e8e43bf6-79b7-4fb1-8c8b-7bfdfd35bb22"
      },
      "execution_count": 11,
      "outputs": [
        {
          "output_type": "stream",
          "name": "stdout",
          "text": [
            "Requirement already satisfied: pubchempy in /usr/local/lib/python3.10/dist-packages (1.0.4)\n",
            "Requirement already satisfied: pandas in /usr/local/lib/python3.10/dist-packages (2.0.3)\n",
            "Requirement already satisfied: python-dateutil>=2.8.2 in /usr/local/lib/python3.10/dist-packages (from pandas) (2.8.2)\n",
            "Requirement already satisfied: pytz>=2020.1 in /usr/local/lib/python3.10/dist-packages (from pandas) (2023.4)\n",
            "Requirement already satisfied: tzdata>=2022.1 in /usr/local/lib/python3.10/dist-packages (from pandas) (2024.1)\n",
            "Requirement already satisfied: numpy>=1.21.0 in /usr/local/lib/python3.10/dist-packages (from pandas) (1.25.2)\n",
            "Requirement already satisfied: six>=1.5 in /usr/local/lib/python3.10/dist-packages (from python-dateutil>=2.8.2->pandas) (1.16.0)\n",
            "Requirement already satisfied: rdkit in /usr/local/lib/python3.10/dist-packages (2023.9.5)\n",
            "Requirement already satisfied: numpy in /usr/local/lib/python3.10/dist-packages (from rdkit) (1.25.2)\n",
            "Requirement already satisfied: Pillow in /usr/local/lib/python3.10/dist-packages (from rdkit) (9.4.0)\n"
          ]
        }
      ]
    },
    {
      "cell_type": "code",
      "source": [
        "import pubchempy as pcp\n",
        "import pandas as pd\n",
        "\n",
        "# Search for a compound by name\n",
        "compound = pcp.get_compounds('Aspirin', 'name')[0]  # This returns a list; we'll just use the first result\n",
        "\n",
        "# Print some properties\n",
        "print(f\"Name: {compound.iupac_name}\")\n",
        "print(f\"Molecular Formula: {compound.molecular_formula}\")\n",
        "print(f\"SMILES String: {compound.canonical_smiles}\")"
      ],
      "metadata": {
        "colab": {
          "base_uri": "https://localhost:8080/"
        },
        "id": "jApRWBWz5Rw1",
        "outputId": "44cc8eae-a2ed-412f-e62e-cba601b090b9"
      },
      "execution_count": 12,
      "outputs": [
        {
          "output_type": "stream",
          "name": "stdout",
          "text": [
            "Name: 2-acetyloxybenzoic acid\n",
            "Molecular Formula: C9H8O4\n",
            "SMILES String: CC(=O)OC1=CC=CC=C1C(=O)O\n"
          ]
        }
      ]
    },
    {
      "cell_type": "code",
      "source": [
        "# Get a compound by CID\n",
        "compound = pcp.Compound.from_cid(2244) # (compound IDs)\n",
        "\n",
        "# Print some properties\n",
        "print(f\"Name: {compound.iupac_name}\")\n",
        "print(f\"SMILES: {compound.canonical_smiles}\")"
      ],
      "metadata": {
        "colab": {
          "base_uri": "https://localhost:8080/"
        },
        "id": "F6evc81e5XSr",
        "outputId": "e5b76dc2-122e-4228-cb46-587709207cf5"
      },
      "execution_count": 13,
      "outputs": [
        {
          "output_type": "stream",
          "name": "stdout",
          "text": [
            "Name: 2-acetyloxybenzoic acid\n",
            "SMILES: CC(=O)OC1=CC=CC=C1C(=O)O\n"
          ]
        }
      ]
    },
    {
      "source": [
        "!curl -I https://pubchem.ncbi.nlm.nih.gov/rest/pug/compound/smiles/benzene/record/JSON"
      ],
      "cell_type": "code",
      "metadata": {
        "colab": {
          "base_uri": "https://localhost:8080/"
        },
        "id": "oPvCCuet7nCO",
        "outputId": "81cf89ff-c79e-4c31-cfab-a49357857b77"
      },
      "execution_count": 14,
      "outputs": [
        {
          "output_type": "stream",
          "name": "stdout",
          "text": [
            "HTTP/2 400 \r\n",
            "\u001b[1mstrict-transport-security\u001b[0m: max-age=31536000; includeSubDomains; preload\r\n",
            "\u001b[1mreferrer-policy\u001b[0m: origin-when-cross-origin\r\n",
            "\u001b[1mcontent-security-policy\u001b[0m: upgrade-insecure-requests\r\n",
            "\u001b[1mdate\u001b[0m: Mon, 08 Apr 2024 14:12:44 GMT\r\n",
            "\u001b[1mserver\u001b[0m: Apache\r\n",
            "\u001b[1mcache-control\u001b[0m: private\r\n",
            "\u001b[1mexpires\u001b[0m: Mon, 08 Apr 2024 15:12:44 GMT\r\n",
            "\u001b[1mncbi-phid\u001b[0m: 90C5CA20613FB5C10000000000000001.m_2\r\n",
            "\u001b[1mncbi-sid\u001b[0m: 90C5CA20613FB5C1_0000SID\r\n",
            "\u001b[1mx-throttling-control\u001b[0m: Request Count status: Green (1%), Request Time status: Green (0%), Service status: Green (40%)\r\n",
            "\u001b[1mcontent-type\u001b[0m: application/json\r\n",
            "\u001b[1mset-cookie\u001b[0m: ncbi_sid=90C5CA20613FB5C1_0000SID; domain=.nih.gov; path=/; expires=Tue, 08 Apr 2025 14:12:44 GMT\r\n",
            "\u001b[1mx-ua-compatible\u001b[0m: IE=Edge\r\n",
            "\u001b[1mx-xss-protection\u001b[0m: 1; mode=block\r\n",
            "\u001b[1maccess-control-allow-origin\u001b[0m: *\r\n",
            "\r\n"
          ]
        }
      ]
    },
    {
      "cell_type": "code",
      "source": [
        "!ping -c 1 google.com"
      ],
      "metadata": {
        "colab": {
          "base_uri": "https://localhost:8080/"
        },
        "id": "V_MU6xNi7rZU",
        "outputId": "78a679fb-3944-4285-80f4-27d6976bce38"
      },
      "execution_count": 15,
      "outputs": [
        {
          "output_type": "stream",
          "name": "stdout",
          "text": [
            "/bin/bash: line 1: ping: command not found\n"
          ]
        }
      ]
    },
    {
      "cell_type": "code",
      "source": [
        "import requests\n",
        "\n",
        "# Define the compound name\n",
        "name = 'Aspirin'\n",
        "\n",
        "# Define the properties\n",
        "properties = 'MolecularFormula,MolecularWeight,CanonicalSMILES'\n",
        "\n",
        "# Construct the URL\n",
        "url = f'https://pubchem.ncbi.nlm.nih.gov/rest/pug/compound/name/{name}/property/{properties}/JSON'\n",
        "\n",
        "# Make the HTTP GET request\n",
        "response = requests.get(url)\n",
        "\n",
        "# Check the response\n",
        "if response.status_code == 200:\n",
        "    data = response.json()\n",
        "    print(data)\n",
        "else:\n",
        "    print(\"Failed to fetch data:\", response.status_code)\n"
      ],
      "metadata": {
        "colab": {
          "base_uri": "https://localhost:8080/"
        },
        "id": "3Eg54Nsl5avS",
        "outputId": "d53fb0f6-7721-4f21-d6c9-0a684a9da730"
      },
      "execution_count": 16,
      "outputs": [
        {
          "output_type": "stream",
          "name": "stdout",
          "text": [
            "{'PropertyTable': {'Properties': [{'CID': 2244, 'MolecularFormula': 'C9H8O4', 'MolecularWeight': '180.16', 'CanonicalSMILES': 'CC(=O)OC1=CC=CC=C1C(=O)O'}]}}\n"
          ]
        }
      ]
    },
    {
      "cell_type": "code",
      "source": [
        "# Get a compound by CID\n",
        "compound = pcp.Compound.from_cid(962) # (compound IDs)\n",
        "\n",
        "# Print some properties\n",
        "print(f\"Name: {compound.iupac_name}\")\n",
        "print(f\"SMILES: {compound.canonical_smiles}\")"
      ],
      "metadata": {
        "colab": {
          "base_uri": "https://localhost:8080/"
        },
        "id": "hMSl7LLd8nFV",
        "outputId": "0ab73933-c483-484e-ec78-804d453a3069"
      },
      "execution_count": 17,
      "outputs": [
        {
          "output_type": "stream",
          "name": "stdout",
          "text": [
            "Name: oxidane\n",
            "SMILES: O\n"
          ]
        }
      ]
    },
    {
      "cell_type": "code",
      "source": [
        "import time\n",
        "import pubchempy as pcp\n",
        "from rdkit import Chem\n",
        "\n",
        "# Batching utility function\n",
        "def chunker(seq, size):\n",
        "    for i in range(0, len(seq), size):\n",
        "        yield seq[i:i + size]\n",
        "\n",
        "# Define substructure patterns with RDKit\n",
        "carboxylic_acid = Chem.MolFromSmarts('C(=O)O')\n",
        "amine = Chem.MolFromSmarts('N')\n",
        "phenol = Chem.MolFromSmarts('c1ccccc1O')\n",
        "\n",
        "results = []\n",
        "\n",
        "# Settings\n",
        "batch_size = 100  # Adjust based on what you find works best\n",
        "retries = 5  # Number of retries per batch\n",
        "delay = 2  # Delay between retries in seconds\n",
        "input_vector = []\n",
        "\n",
        "# Main processing loop with batching and retries\n",
        "for cid_chunk in chunker(range(2000, 10000), batch_size):\n",
        "    attempt = 0\n",
        "    while attempt < retries:\n",
        "        try:\n",
        "            compounds = pcp.get_compounds(list(cid_chunk), 'cid')\n",
        "            for compound in compounds:\n",
        "                if compound is None: continue  # Skip if no compound was fetched\n",
        "                # Fetch the compound by CID and get its canonical SMILES\n",
        "                smiles = compound.canonical_smiles\n",
        "\n",
        "                # Convert the SMILES string to an RDKit molecule object\n",
        "                compound_mol = Chem.MolFromSmiles(smiles)\n",
        "\n",
        "                # Check for the presence of each substructure\n",
        "                has_carboxylic_acid = compound_mol.HasSubstructMatch(carboxylic_acid)\n",
        "                has_amine = compound_mol.HasSubstructMatch(amine)\n",
        "                has_phenol = compound_mol.HasSubstructMatch(phenol)\n",
        "\n",
        "                if has_carboxylic_acid and has_amine and has_phenol:\n",
        "                    results.append(compound.cid)\n",
        "                    input_vector.append(smiles)\n",
        "            break  # Break the retry loop upon successful processing\n",
        "        except Exception as e:\n",
        "            print(f\"Error processing batch starting with CID {cid_chunk[0]}: {e}\")\n",
        "            if 'PUGREST.ServerBusy' in str(e):\n",
        "                attempt += 1\n",
        "                print(f\"Server busy, retrying batch (Attempt {attempt+1}/{retries})...\")\n",
        "                time.sleep(delay)\n",
        "            else:\n",
        "                # Break on other errors to avoid infinite loop\n",
        "                break\n",
        "\n",
        "print(f\"Results: {results}\")\n",
        "print(input_vector)\n"
      ],
      "metadata": {
        "colab": {
          "base_uri": "https://localhost:8080/"
        },
        "id": "ZimGXOUWEbpk",
        "outputId": "ad37f447-a518-40c4-ac79-2e07f6a3a6c0"
      },
      "execution_count": 18,
      "outputs": [
        {
          "output_type": "stream",
          "name": "stderr",
          "text": [
            "[14:13:24] Explicit valence for atom # 22 Cl, 3, is greater than permitted\n"
          ]
        },
        {
          "output_type": "stream",
          "name": "stdout",
          "text": [
            "Error processing batch starting with CID 2300: 'NoneType' object has no attribute 'HasSubstructMatch'\n",
            "Results: [2004, 2008, 2054, 2064, 2074, 2101, 2102, 2110, 2112, 2171, 2199, 2204, 2236, 2245, 2257, 2258, 2276, 2278, 2290, 2291, 2293, 2314, 2316, 2329, 2339, 2342, 2436, 2437, 2439, 2440, 2454, 2471, 2488, 2521, 2536, 2563, 2566, 2575, 2601, 2610, 2629, 2630, 2642, 2646, 2680, 2724, 2870, 2912, 2932, 2982, 3074, 3075, 3076, 3083, 3084, 3088, 3105, 3125, 3142, 3171, 3175, 3176, 3178, 3179, 3190, 3199, 3268, 3347, 3447, 3549, 3567, 3592, 3628, 3683, 3710, 3722, 3750, 3800, 3889, 3894, 3895, 3896, 3903, 3933, 3943, 3944, 3990, 4012, 4031, 4039, 4075, 4097, 4102, 4103, 4107, 4138, 4230, 4241, 4258, 4259, 4260, 4271, 4294, 4302, 4310, 4315, 4322, 4334, 4337, 4338, 4339, 4413, 4414, 4415, 4456, 4502, 4503, 4504, 4505, 4526, 4544, 4545, 4546, 4547, 4574, 4580, 4583, 4622, 4633, 4649, 4681, 4682, 4730, 4731, 4758, 4759, 4769, 4776, 4811, 4849, 4862, 4863, 4864, 4918, 4921, 4934, 4935, 4944, 4948, 5003, 5010, 5045, 5051, 5052, 5067, 5068, 5077, 5098, 5105, 5113, 5149, 5160, 5191, 5225, 5275, 5298, 5339, 5367, 5369, 5379, 5486, 5490, 5494, 5515, 5527, 5573, 5635, 5651, 5657, 5667, 5669, 5670, 5672, 5717, 5739, 5770, 5776, 5777, 5813, 5815, 5819, 5824, 5883, 5890, 5919, 5920, 5965, 5966, 5978, 5983, 5992, 6034, 6039, 6047, 6057, 6087, 6129, 6143, 6150, 6181, 6257, 6272, 6280, 6453, 6462, 6757, 6769, 6807, 6843, 6869, 7183, 7318, 7572, 8246, 8269, 8387, 8440, 8524, 8550, 8564, 8603, 8604, 8605, 8608, 8609, 8611, 8694, 8729, 8730, 8935, 8936, 8982, 8994, 9279, 9295, 9305, 9307, 9328, 9344, 9346, 9414, 9503, 9599, 9600, 9800, 9803, 9804]\n",
            "['CCOC(=O)C(CC1=CC=C(C=C1)O)NC(=O)C', 'CCC1(CC(C2=C(C3=C(C=C2C1C(=O)OC)C(=O)C4=C(C3=O)C(=CC=C4)O)O)OC5CC(C(C(O5)C)OC6CC(C(C(O6)C)OC7CCC(=O)C(O7)C)O)N(C)C)O', 'C1=CC(=C(C=C1C=C(C#N)C(=O)O)O)O', 'COC(=O)C1=CC=C(C=C1)NCC2=C(C=CC(=C2)O)O', 'CCC1(CC(C2=C(C3=C(C=C2C1C(=O)OC)C(=O)C4=C(C3=O)C(=CC=C4)O)O)OC5CC(C(C(O5)C)O)N(C)C)O', 'C1=CC(=CC(=C1)O)C=C(C#N)C(=O)O', 'C1=CC(=CC=C1C=C(C#N)C(=O)O)O', 'CC(CC1=CC(=CC=C1)O)(C(=O)O)N', 'CC(CC1=CC=C(C=C1)O)(C(=O)OC)N', 'CC1(C(N2C(S1)C(C2=O)NC(=O)C(C3=CC=C(C=C3)O)N)C(=O)O)C', 'CC(=O)OC1C(CNC1CC2=CC=C(C=C2)OC)O', 'CCCCCC1C(C(OC(=O)C(C(OC1=O)C)NC(=O)C2=C(C(=CC=C2)NC=O)O)C)OC(=O)CC(C)C', 'COC1=CC=CC2=C3C(=C(C=C21)[N+](=O)[O-])C(=CC4=C3OCO4)C(=O)O', 'CC1(C(N2C(S1)C(C2=O)NC(=O)C(C3=CC=C(C=C3)O)NC(=O)C(CC(=O)NC)N)C(=O)O)C', 'C1=CC(=C(C=C1C(=C2C=CC(=O)C(=C2)C(=O)O[NH3+])C3=CC(=C(C=C3)O)C(=O)O[NH3+])C(=O)O[NH3+])O', 'C1=CC(=C(C=C1C(=C2C=CC(=O)C(=C2)C(=O)ON)C3=CC(=C(C=C3)O)C(=O)ON)C(=O)ON)O', 'CCC(C)C1C(=O)NCC(=O)NC2CS(=O)C3=C(CC(C(=O)NCC(=O)N1)NC(=O)C(NC(=O)C4CC(CN4C(=O)C(NC2=O)CC(=O)O)O)C(C)C(CO)O)C5=C(N3)C=C(C=C5)O', 'C1=CC=C(C(=C1)C(=O)OC2=CC=CC(=C2)CO[N+](=O)[O-])O', 'C1CC(C(CNC1)NC(=O)C2=CC=C(C=C2)O)OC(=O)C3=CC(=C(C(=C3)O)C(=O)C4=C(C=CC=C4O)C(=O)O)O', 'CC1C(C(CC(O1)OC2C3C(=O)NC(C4=C(C(=CC(=C4)O)O)C5=C(C=CC(=C5)C(C(=O)N3)NC(=O)C6C7=CC(=C(C(=C7)OC8=C(C=C2C=C8)Cl)OC9C(C(C(C(O9)CO)O)O)O)OC1=C(C=C(C=C1)C(C(C(=O)NC(C(=O)N6)CC(=O)N)NC(=O)C(CC(C)C)NC)O)Cl)O)C(=O)O)(C)N)(O)O', 'CC(=O)OCOC(=O)CN(CC(=O)OCOC(=O)C)C1=CC=CC=C1OCCOC2=CC=CC=C2N(CC(=O)OCOC(=O)C)CC(=O)OCOC(=O)C', 'CC1(OC2=C(O1)C(=CC=C2)OC(=O)NC)C', 'C1CC(CCC1CN=C(N)N)C(=O)OC2=CC=CC=C2C(=O)OCC3=CC=CC=C3', 'C1=CC=C(C=C1)C(=O)NC(CC2=CC=C(C=C2)O)C(=O)NC3=CC=C(C=C3)C(=O)O', 'CC(C(=O)C)NC(=O)C(CC1=CC=C(C=C1)O)NC(=O)OCC2=CC=CC=C2', 'CCN(CC)C(=O)C1CN2CCC3=CC(=C(C=C3C2CC1OC(=O)C)OC)OC', 'CC(CC1=CC=C(C=C1)OCC(=O)[O-])NCC(C2=CC(=CC=C2)Cl)O.[Na+]', 'CC(CC1=CC=C(C=C1)OCC(=O)O)NCC(C2=CC(=CC=C2)Cl)O', 'COC1=C(C(=CC(=C1)CC2=C[NH+]=C(N=C2N)N)OCCCC(CCC(=O)[O-])C(=O)[O-])Br', 'COC1=C(C(=CC(=C1)CC2=CN=C(N=C2N)N)OCCCC(CCC(=O)O)C(=O)O)Br', 'CC(C)OC1=CC=CC=C1OC2=NC=C(C=C2)NC=C(C(=O)OC)NC(=O)C3=CC=CC=C3', 'CCCCNC1=C(C(=CC(=C1)C(=O)O)S(=O)(=O)N)OC2=CC=CC=C2', 'CCCCOC1=CC=C(C=C1)C[N+]2(C3CCC2CC(C3)OC(=O)C(CO)C4=CC=CC=C4)C', 'C1=CC=C(C(=C1)C2=C3C=C(C(=O)C=C3OC4=C2C=C(C(=C4)O)CN(CC(=O)O)CC(=O)O)CN(CC(=O)O)CC(=O)O)C(=O)O', 'CN(C)C(=O)COC(=O)CC1=CC=C(C=C1)OC(=O)C2=CC=C(C=C2)N=C(N)N', 'CC(CC1=CC(=C(C=C1)O)O)(C(=O)O)NN', 'CC1(CC2=C(O1)C(=CC=C2)OC(=O)NC)C', 'CC1(C(N2C(S1)C(C2=O)NC(=O)C(C3=CC=CC=C3)C(=O)OC4=CC5=C(CCC5)C=C4)C(=O)O)C', 'CCOC(=O)C1=CC=C(C=C1)N=NC2=CC(=C(C=C2)O)CC(=O)O', 'CC1=C(N2C(C(C2=O)NC(=O)C(C3=CC=C(C=C3)O)N)SC1)C(=O)O', 'CCN1CCN(C(=O)C1=O)C(=O)NC(C2=CC=C(C=C2)O)C(=O)NC3C4N(C3=O)C(=C(CS4)CSC5=NN=NN5C)C(=O)[O-]', 'CCN1CCN(C(=O)C1=O)C(=O)NC(C2=CC=C(C=C2)O)C(=O)NC3C4N(C3=O)C(=C(CS4)CSC5=NN=NN5C)C(=O)O', 'CC1=CC(=O)C(=CN1)C(=O)NC(C2=CC=C(C=C2)O)C(=O)NC3C4N(C3=O)C(=C(CS4)CSC5=NN=NN5C)C(=O)O', 'CC=CC1=C(N2C(C(C2=O)NC(=O)C(C3=CC=C(C=C3)O)N)SC1)C(=O)O', 'C1CC(CCC1CN)C(=O)OC2=CC=C(C=C2)CCC(=O)O', 'C1=CC(=CC=C1OCC(COC(=O)N)O)Cl', 'CC1=CC=C(N1)C(=O)OC2C(C(CC(C2OC)(C)C)OC3=C(C4=C(CC(C(=O)O4)NC(=O)C5=C(C(=CN5)CC(=O)NC6=CC7=C(C(=C(C=C7)OC8C(C(C(C(O8)(C)C)OC)OC(=O)C9=CC=C(N9)C)O)C)OC6=O)C)C=C3)C)O', 'CC1(C(C1C(=O)OC(C#N)C2=CC(=CC=C2)OC3=CC=CC=C3)C=C(Cl)Cl)C', 'C1=CC(=CC=C1CC(C(=O)NC(CCCN=C(N)N)C(=O)O)N)O', 'CC1(C(C1C(=O)OC(C#N)C2=CC(=CC=C2)OC3=CC=CC=C3)C=C(Br)Br)C', 'COC1=CC(=CC(=C1OC)OC)C(=O)OCCCN2CCCN(CC2)CCCOC(=O)C3=CC(=C(C(=C3)OC)OC)OC', 'CC(=O)OC1C(SC2=CC=CC=C2N(C1=O)CC[NH+](C)C)C3=CC=C(C=C3)OC', 'CC(=O)OC1C(SC2=CC=CC=C2N(C1=O)CCN(C)C)C3=CC=C(C=C3)OC', 'COC1=C(C=C(C(=C1)C(CN(CC(=O)[O-])CC(=O)[O-])N(CC(=O)[O-])CC(=O)[O-])[N+](=O)[O-])OC.[Na+].[Na+].[Na+].[Na+]', 'COC1=C(C=C(C(=C1)C(CN(CC(=O)O)CC(=O)O)N(CC(=O)O)CC(=O)O)[N+](=O)[O-])OC', 'CC1C2CN3CCC4=C(C3CC2C(=CO1)C(=O)OCCN(C)C)NC5=CC(=C(C=C45)OC)OC', 'CC(C)(C)C(=O)OC1=C(C=C(C=C1)C(CNC)O)OC(=O)C(C)(C)C', 'CC(CC1=CC=C(C=C1)O)(C(=O)O)N', 'CCOC(=O)OC1=C(C=C(C=C1)CCNC(=O)C(CCSC)NC(=O)C)OC(=O)OCC', 'C1=CC(=C(C=C1C(C(C(=O)O)N)O)O)O', 'CC1CN(C2=CC(=C3C(=C12)C(=O)C(N3)(C)C(=O)OC)O)C(=O)C4=CC5=CC(=C(C(=C5N4)OC)OC)OC', 'CC1CN(C2=CC(=C3C(=C12)C=C(N3)C(=O)OC)O)C(=O)C4=CC5=CC(=C(C(=C5N4)OC)OC)OC', 'CC(N)N1C=CC(=C1)OC2=CC=C(C=C2)C(CC3=CC4=C(C=C3)C=CC(=C4)C(=[NH2+])N)C(=O)O', 'CC(N)N1C=CC(=C1)OC2=CC=C(C=C2)C(CC3=CC4=C(C=C3)C=CC(=C4)C(=N)N)C(=O)O', 'CN1CCC2=CC(=C3C=C2C1CC4=CC=C(C=C4)OC5=C(C=CC(=C5)CC6C7=C(O3)C(=C(C=C7CCN6C)OC)OC)OC(=O)C8=CC=C(C=C8)[N+](=O)[O-])OC', 'CC1=CC2=C(C3C4C5C6=C(C(=C7C(=C6C(N4C(C(C2)N3C)O)COC(=O)C8(CS5)C9=CC(=C(C=C9CCN8)O)OC)OCO7)C)OC(=O)C)C(=C1OC)O', 'CC12CCC3C(C1CCC2OP(=O)(O)O)CCC4=C3C=CC(=C4)OC(=O)N(CCCl)CCCl', 'CC(C)C(C1=CC=C(C=C1)Cl)C(=O)OC(C#N)C2=CC(=CC=C2)OC3=CC=CC=C3', 'CCOC(=O)C1=CC=C(C=C1)OC(=O)CCCCCN=C(N)N', 'CCOC(=O)C1=C(OC2=C(C1C(C#N)C(=O)OCC)C=C(C=C2)Br)N', 'CC(C)(CCC(CC(=O)OC)(C(=O)OC1C2C3=CC4=C(C=C3CCN5C2(CCC5)C=C1OC)OCO4)O)O', 'CC(=O)OC1C=CC2C3CC4=C5C2(C1OC5=C(C=C4)OC(=O)C)CCN3C', 'CC(C)(CCCC(CC(=O)OC)(C(=O)OC1C2C3=CC4=C(C=C3CCN5C2(CCC5)C=C1OC)OCO4)O)O', 'CN(C(CN1CCCC1)C2=CC(=CC=C2)OCC(=O)O)C(=O)CC3=CC(=C(C=C3)Cl)Cl', 'CC1=C(C2=C(N1CC3=CC=CC=C3)C=CC(=C2)OCCCC(=O)O)CC(=O)N', 'CC(C)C(C(=O)NC(C)C(=O)NC(CC(=O)O)C(=O)CCl)NC(=O)C(CC1=CC=C(C=C1)O)NC(=O)C', 'CCC1=C2CN3C(=CC4=C(C3=O)COC(=O)C4(CC)O)C2=NC5=C1C=C(C=C5)OC(=O)N6CCC(CC6)N7CCCCC7', 'CC1CC(OC(=O)CC(NC(=O)C(N(C(=O)C(NC(=O)C(CC(=C1)C)C)C)C)CC2=C(NC3=CC=CC=C32)Br)C4=CC=C(C=C4)O)C', 'CN1C(=NN=N1)SCC2=C(N3C(C(C3=O)(NC(=O)C(C4=CC=C(C=C4)O)C(=O)O)OC)OC2)C(=O)O', 'C1=CC=C(C(=C1)CN(CC2=C(C=CC(=C2)O)O)C3=CC(=C(C=C3)O)C(=O)O)O', 'C1=CC=C(C(=C1)CN(CC2=CC=CC=C2O)C3=CC(=C(C=C3)O)C(=O)O)O', 'C1=CC(=C(C=C1NCC2=C(C=CC(=C2)O)O)C(=O)O)O', 'CC(C)CC(C(=O)O)NC(=O)C(CC1=CC=CC=C1)NC(=O)CNC(=O)CNC(=O)C(CC2=CC=C(C=C2)O)N', 'C1=CC(=C(C=C1OC2=C(C=C(C=C2I)CC(C(=O)[O-])N)I)I)O', 'CC1C=CC(C(=CCC2=C(C(=CC=C2)O)C(=O)OC(CC(=O)O1)CC=CNC(=O)C=CC=NOC)C)O', 'CC1=CCC2=C(C(=CC=C2)O)C(=O)OC(CC(=O)OC(C=CC1O)CO)CC=CNC(=O)C=CC=NOC', 'C1=CC(=CC=C1CC(C(=O)NC(CCCCN)C(=O)O)NC(=O)C(CCCCN)N)O', 'CC1=CC(=C(C=C1)N(CC(=O)OCOC(=C)C)CC(=O)OCOC(=O)C)OCCOC2=C(C=CC(=C2)C)N(CC(=O)OCOC(=O)C)CC(=O)OCOC(=O)C', 'CCN(CCCCOC(=O)C1=CC(=C(C=C1)OC)OC)C(C)CC2=CC=C(C=C2)OC', 'CN(C)CCOC(=O)COC1=CC=C(C=C1)Cl', 'C1=CC(=C(C=C1N)C(=O)O)O', 'CC[N+](C)(CC)CCOC(=O)C1C2=CC=CC=C2OC3=CC=CC=C13', 'CC1(C(N2C(S1)C(C2=O)NC(=O)C3=C(C=CC=C3OC)OC)C(=O)[O-])C', 'CC1(C(N2C(S1)C(C2=O)NC(=O)C3=C(C=CC=C3OC)OC)C(=O)O)C', 'COC1=CC=CC=C1OCC(COC(=O)N)O', 'CC(CC1=CC(=C(C=C1)O)O)(C(=O)O)N', 'COC1=CC=C(C=C1)S(=O)(=O)N2CCN(CC2C(=O)NO)C(=O)OCC3=CC=CC=C3', 'CCOC(=O)C1=C(NC(=NC1C2=CC(=CC=C2)O)S)C', 'CC1=C(N2C(C(C2=O)(NC(=O)C(C3=CC=C(C=C3)O)C(=O)O)OC)OC1)C(=O)O', 'COC1=C2C(=CC(=C1N3CC4CCCNC4C3)F)C(=O)C(=CN2C5CC5)C(=O)O', 'CC1=CC(=C(C=C1OC(=O)C)C(C)C)OCCN(C)C', 'CC1=C2COC(=O)C2=C(C(=C1OC)CC=C(C)CCC(=O)OCCN3CCOCC3)O', 'C1=CC=C(C(=C1)C(=O)O)NS(=O)(=O)C2=CC(=C(C=C2)O)N', 'C1=CC(=C(C=C1N2C(=O)C=CC2=O)O)C(=O)O', 'C1=CC(=CC(=C1)N2C3=CC=CC(=C3OC4=C(C=CC=C42)C(=O)O)C(=O)O)C(F)(F)F', 'COC(=O)N1C=CN(C(=C1)CC(=O)NCC2=CC3=C(C=C2)OCO3)C4=NC(=NC=C4)N5C=CN=C5', 'CN1CCN=C1C2=CC(=CC=C2)OC3=NC(=C(C(=C3F)N(C)CC(=O)O)F)OC4=C(C=CC(=C4)C(=N)N)O', 'CC(C)C(C(=O)NC(C)C(=O)NC(CC(=O)O)C=O)NC(=O)C(CC1=CC=C(C=C1)O)N(C)C(=O)C', 'CC1=CC(=O)OC2=C1C=CC(=C2)NC(=O)C(CC(=O)O)NC(=O)C(C)NC(=O)C(C(C)C)NC(=O)C(CC3=CC=C(C=C3)O)NC(=O)C', 'CC(C)C(C(=O)NC(C)C(=O)NC(CC(=O)O)C(=O)NC1=CC=C(C=C1)[N+](=O)[O-])NC(=O)C(CC2=CC=C(C=C2)O)NC(=O)C', 'CC(C)C(C(=O)NC(C)C(=O)NC(CC(=O)O)C=O)NC(=O)C(CC1=CC=C(C=C1)O)NC(=O)C', 'C1=CC(=CC=C1C(=O)OC2=CC3=C(C=C2)C=C(C=C3)C(=N)N)N=C(N)N', 'CCOC1=C(C2=CC=CC=C2C=C1)NC(=O)C3C4N(C3=O)C(C(S4)(C)C)C(=O)[O-]', 'CCOC1=C(C2=CC=CC=C2C=C1)NC(=O)C3C4N(C3=O)C(C(S4)(C)C)C(=O)O', 'CN(C)C(=O)OC1=CC=CC(=C1)[N+](C)(C)C', 'CC1=CC(=C(C=C1)N(CC(=O)[O-])CC(=O)[O-])OCCOC2=C(C=CC(=C2)C(C3=CC4=C(C=C3[N+](=O)[O-])OCO4)O)N(CC(=O)[O-])CC(=O)[O-]', 'CC1=CC(=C(C=C1)N(CC(=O)O)CC(=O)O)OCCOC2=C(C=CC(=C2)C(C3=CC4=C(C=C3[N+](=O)[O-])OCO4)O)N(CC(=O)O)CC(=O)O', 'CC1=CC(=C(C=C1)N(CC(=O)[O-])CC(=O)[O-])OC2CCCC2OC3=C(C=CC(=C3)C(C4=CC5=C(C=C4)OCO5)O)N(CC(=O)[O-])CC(=O)[O-].[Na+].[Na+].[Na+].[Na+]', 'CC1=CC(=C(C=C1)N(CC(=O)O)CC(=O)O)OC2CCCC2OC3=C(C=CC(=C3)C(C4=CC5=C(C=C4)OCO5)O)N(CC(=O)O)CC(=O)O', 'CC1C(C(C(C(O1)OC2CC(C(C3=CC4=C(C(=C23)O)C(=O)C5=C(C=C6C(=C5C4=O)OC7C(C(C(C6(O7)C)O)N(C)C)O)O)C(=O)OC)(C)O)OC)(C)OC)OC', 'CN1CCC2=CC3=C(C(=C2C1C4C5=C(C(=C(C=C5)OC)OC)C(=O)O4)OC)OCO3', 'CC1=C(C=CC2=C1OC(=O)C(=C2[O-])NC(=O)C3=CC(=C(C=C3)O)CC=C(C)C)OC4C(C(C(C(O4)(C)C)OC)OC(=O)N)O', 'CC1=C(C=CC2=C1OC(=C(C2=O)NC(=O)C3=CC(=C(C=C3)O)CC=C(C)C)O)OC4C(C(C(C(O4)(C)C)OC)OC(=O)N)O', 'CCOC1=C(C=CC(=C1)CC(=O)NC(CC(C)C)C2=CC=CC=C2N3CCCCC3)C(=O)O', 'C1=CC=C(C=C1)COC(=O)OC2=CC=C(C=C2)CC(C(=O)O)N', 'CC1CC2=C(C=C(C(=C2C(=O)O1)O)C(=O)NC(CC3=CC=CC=C3)C(=O)O)Cl', 'CC1COC2=C3N1C=C(C(=O)C3=CC(=C2N4CCN(CC4)C)F)C(=O)O', 'CCCOC1=CC2=C(C=C1)N=C(N2)NC(=O)OC', 'CCCCOC1=C(C=CC(=C1)C(=O)OCCN(CC)CC)N', 'C1=CC(=C(C=C1N)O)C(=O)O', 'CCC(C)C=C(C)C=CC(C(C)(C(=O)NCC(=O)NC(C(C)O)C(=O)NC(C(C)N)C(=O)NC(C(C)C(C)C(=O)N)C(=O)NC1C(OC(=O)C2CCCCN2C(=O)C(NC(=O)C(N(C(=O)C(NC(=O)CNC(=O)C(NC1=O)COC)C)C)C(C)O)C(C3=CC=C(C=C3)O)OC)C(C)C)O)O', 'CCC(C)C=C(C)C=CC(C(C)(C(=O)NCC(=O)NC(C(C)O)C(=O)NC(C(C)N)C(=O)NC(C(C)C(C)C(=O)N)C(=O)NC1C(OC(=O)C2CCCCN2C(=O)C(NC(=O)C(NC(=O)C(NC(=O)CNC(=O)C(NC1=O)COC)C)C(C)O)C(C3=CC=C(C=C3)O)OC)C(C)C)O)O', 'CC1(C(N2C(S1)C(C2=O)NC(=O)COC3=CC=CC=C3)C(=O)[O-])C', 'CC1(C(N2C(S1)C(C2=O)NC(=O)COC3=CC=CC=C3)C(=O)O)C', 'CC(C(=O)NC1C2N(C1=O)C(C(S2)(C)C)C(=O)[O-])OC3=CC=CC=C3', 'CC(C(=O)NC1C2N(C1=O)C(C(S2)(C)C)C(=O)O)OC3=CC=CC=C3', 'CC1(C(N2C(S1)C(C2=O)NC(=O)COC3=CC=CC=C3)C(=O)[O-])C.[K+]', 'CCCCC(NC(=O)CCC(=O)O)P(=O)(O)OC1=CC=CC=C1', 'CC12CCN(C1N(C3=C2C=C(C=C3)OC(=O)NC)C)C', 'C1CCN(C1)C2=C(C(=CC(=C2)C(=O)O)S(=O)(=O)N)OC3=CC=CC=C3', 'CCC(=C(C(=O)NC(=CC(=O)O)C(=O)O)NC(=O)C1C=CCN1C(=O)C2C(OC3=C(C(=CC(=C3)C(C(C(=O)NC(C(=O)N2)C(=C)C)NC)O)Cl)O)(C)CC)C', 'CCCCCNC(=O)C(CC1=CC=C(C=C1)OC(C(=O)O)C(=O)O)NC(=O)NC(CC2=CC=CC=C2)C(=O)O', 'CCCCCNC(=O)C(CC1=CC(=C(C=C1)OCC(=O)O)C(=O)O)NC(=O)C(CC2=CC=CC=C2)NC(=O)CCC(=O)O', 'CC(C)C(C(=O)N1CCCC1C(=O)NC(C(C)O)C(=O)O)NC(=O)C(CC2=CC=C(C=C2)O)NC(=O)C(CCCN=C(N)N)N', 'CCCN(CCC)C(=O)C(CCC(=O)OCCCN1CCN(CC1)CCOC(=O)CC2=C(N(C3=C2C=C(C=C3)OC)C(=O)C4=CC=C(C=C4)Cl)C)NC(=O)C5=CC=CC=C5', 'CC(C)[N+](C)(CCOC(=O)C1C2=CC=CC=C2OC3=CC=CC=C13)C(C)C', 'CCCOC1=C(C=C(C=C1)C(=O)OCCN(CC)CC)N', 'CC(C)OC1=CC=CC=C1OC(=O)NC', 'C1C(=C(N2C(S1)C(C2=O)NC(=O)C(C3=CC=C(C=C3)O)N)C(=O)O)CSC4=NNN=C4', 'CC1=CC(=C(C=C1)OCC2=NC3=C(C=C(C=C3C=C2)OC)N(CC(=O)O)CC(=O)O)N(CC(=O)O)CC(=O)O', 'CCOC(=O)OC(C1CC2CCN1CC2C=C)C3=C4C=C(C=CC4=NC=C3)OC', 'C1=CC=C(C=C1)COC(=O)NCC2=CC=C(C=C2)C(=O)NC3=CC=CC=C3O', 'COC1C(CC2CN3CCC4=C(C3CC2C1C(=O)OC)NC5=C4C=CC(=C5)OC)OC(=O)C=CC6=CC(=C(C(=C6)OC)OC)OC', 'COC1C(CC2CN3CCC4=C(C3CC2C1C(=O)OC)NC5=C4C=CC(=C5)OC)OC(=O)C6=CC(=C(C(=C6)OC)OC)OC', 'CC1C=CC=C(C(=O)N=C2C(=CNN3CCN(CC3)C)C(=C4C(=C2O)C(=C(C5=C4C(=O)C(O5)(OCCC(C(C(C(C(C(C1O)C)O)C)OC(=O)C)C)OC)C)C)O)O)C', 'CC1C=CC=C(C(=O)N=C2C(=CNN3CCN(CC3)C)C(=C4C(=C2O)C(=C(C5=C4C(=O)C(O5)(OC=CC(C(C(C(C(C(C1O)C)O)C)OC(=O)C)C)OC)C)C)O)O)C', 'CCN(C)C(=O)OC1=CC=CC(=C1)C(C)N(C)C', 'CC1=C(N=C(O1)C2=CC=CC=C2)CCOC3=CC=C(C=C3)CC(C(=O)O)NC4=CC=CC=C4C(=O)C5=CC=CC=C5', 'CC(=O)OCC(=O)NCCCOC1=CC=CC(=C1)CN2CCCCC2', 'CC(=O)OCOC(C1=C(C=CC(=C1)OC2=CC=C(C=C2)Br)[N+](=O)[O-])P(=O)(OCOC(=O)C)OCOC(=O)C', 'CCC=CC=CC(=O)NC=CCC1CC(C(CC=CCC2=C(C(=CC=C2)O)C(=O)O1)C)O', 'CN(C)CC(COC1=CC=CC=C1CCC2=CC(=CC=C2)OC)OC(=O)CCC(=O)O', 'CCN(CC)CCOC(=O)C1=CC(=C(C=C1OC)N)Cl', 'CC(C)(C)C(=O)OC1=CC=C(C=C1)S(=O)(=O)NC2=CC=CC=C2C(=O)NC(=O)O', 'COC1=CC=C(C=C1)C2=N[N+](=C(C=C2)N)CCCC(=O)O', 'CC1=C(C(=C(N=C1C(=O)O)C2=NC3=C(C=C2)C(=O)C(=C(C3=O)N)OC)N)C4=C(C(=C(C=C4)OC)OC)O', 'C1=CC=NC(=C1)NS(=O)(=O)C2=CC=C(C=C2)N=NC3=CC(=C(C=C3)O)C(=O)O', 'CCOC(=O)OC1=C(C=C(C=C1OC)C(=O)OC2CC3CN4CCC5=C(C4CC3C(C2OC)C(=O)OC)NC6=C5C=CC(=C6)OC)OC', 'COC1=CC(=CC(=C1OC)OC)C2=C(N(C(=O)C3=C2C=CC(=C3)OCC4=CC=CC=N4)C5=CC=C(C=C5)N)C(=O)OC', 'CC1CN(CCN1)C2=C(C=C3C(=C2OC)N(C=C(C3=O)C(=O)O)C4CC4)F', 'CCCCS(=O)(=O)NC(CC1=CC=C(C=C1)OCCCCC2CCNCC2)C(=O)O', 'CCN(CC)CCCCCCCOC(=O)C1=CC(=C(C(=C1)OC)OC)OC', 'CCN(CC)CCCCCCCCOC(=O)C1=CC(=C(C(=C1)OC)OC)OC', 'CCC1(C2=C(COC1=O)C(=O)N3CC4=CC5=C(C=CC(=C5CN(C)C)O)N=C4C3=C2)O', 'COC1=C(C=C(C=C1)C=CC(=O)NC2=CC=CC=C2C(=O)O)OC', 'CCC(COC(=O)C1=CC(=C(C(=C1)OC)OC)OC)(C2=CC=CC=C2)N(C)C', 'CN1CCC2=CC(C3C(C21)C4=CC5=C(C=C4C(=O)O3)OCO5)OC', 'CC1C(C(CC(O1)OC2C(C(C(OC2OC3=C4C=C5C=C3OC6=C(C=C(C=C6)C(C(C(=O)NC(C(=O)NC5C(=O)NC7C8=CC(=C(C=C8)O)C9=C(C=C(C=C9O)O)C(NC(=O)C(C(C1=CC(=C(O4)C=C1)Cl)O)NC7=O)C(=O)O)CC(=O)N)NC(=O)C(CC(C)C)NC)O)Cl)CO)O)O)(C)N)O', 'CC1CCC2C(C3(C(CC4(C5CCC6C7(C5(CC4(C3CN2C1)O)OC6(C(CC7)OC(=O)C8=CC(=C(C=C8)OC)OC)O)C)O)O)O)(C)O', 'CCC1(CC2CC(C3=C(CCN(C2)C1)C4=CC=CC=C4N3)(C5=C(C=C6C(=C5)C78CCN9C7C(C=CC9)(C(C(C8N6C)(C(=O)OC)O)C(=O)OC)CC)OC)C(=O)OC)O', 'CCC1(CC2CC(C3=C(CCN(C2)C1)C4=CC=CC=C4N3)(CC(=O)OC)C5=C(C=C6C(=C5)C78CCN9C7C(C=CC9)(C(C(C8N6C=O)(C(=O)OC)O)OC(=O)C)CC)OC)O', 'CCC1(CC2CC(C3=C(CCN(C2)C1)C4=CC=CC=C4N3)(CC(=O)OC)C5=C(C=C6C(=C5)C78CCN9C7C(C=CC9)(C(C(C8N6C)(C(=O)N)O)O)CC)OC)O', 'CCC1=CC2CC(C3=C(CN(C2)C1)C4=CC=CC=C4N3)(C5=C(C=C6C(=C5)C78CCN9C7C(C=CC9)(C(C(C8N6C)(C(=O)OC)O)OC(=O)C)CC)OC)C(=O)OC', 'CC1=CC=CC=C1S(=O)(=O)NC(=O)C2=CC(=C(C=C2)CC3=CN(C4=C3C=C(C=C4)NC(=O)OC5CCCC5)C)OC', 'CCC(C1=CC(=C(C(=C1)OC)OC)OC)C(=O)N2CCCCC2C(=O)OC(CCC3=CC(=C(C=C3)OC)OC)C4=CC(=CC=C4)OCC(=O)O', 'COC1C(CC2CN3CCC4=C(C3CC2C1C(=O)OC)NC5=C4C=CC(=C5)OC)OC(=O)C6=CC(=C(C(=C6)OC)OC)OC', 'CN(CCCOC(=O)C1=CC(=C(C(=C1)OC)OC)OC)CCN(C)CCCOC(=O)C2=CC(=C(C(=C2)OC)OC)OC.Cl.Cl', 'CN(CCCOC(=O)C1=CC(=C(C(=C1)OC)OC)OC)CCN(C)CCCOC(=O)C2=CC(=C(C(=C2)OC)OC)OC', 'C1=CC(=C(C=C1C(CN)O)O)O.C(C(C(=O)O)O)(C(=O)O)O', 'CNCC(C1=CC(=C(C=C1)O)O)O.C(C(C(=O)O)O)(C(=O)O)O', 'C1=C(C=C(C(=C1I)OC2=CC(=C(C(=C2)I)O)I)I)CC(C(=O)O)N', 'CN(C)C(=O)OC1=CC=CC(=C1)[N+](C)(C)C.COS(=O)(=O)[O-]', 'CC[N+](C)(CC)CCOC(=O)C1C2=CC=CC=C2OC3=CC=CC=C13.[Br-]', 'CC(C)C(C(=O)NC(CC1=CC=C(C=C1)O)C(=O)NC(C(C)C)C(=O)NC(CC2=CN=CN2)C(=O)N3CCCC3C(=O)NC(CC4=CC=CC=C4)C(=O)O)NC(=O)C(CCCN=C(N)N)NC(=O)C(CC(=O)N)N', 'C1=CC(=C(C=C1OC2=C(C=C(C=C2I)CC(C(=O)[O-])N)I)I)O.[Na+]', 'C1=CC(=C(C=C1OC2=C(C=C(C=C2I)CC(C(=O)O)N)I)I)O', 'CN(CCCCCCCCCCN(C)C(=O)OC1=CC=CC(=C1)[N+](C)(C)C)C(=O)OC2=CC=CC(=C2)[N+](C)(C)C.[Br-].[Br-]', 'CN(CCCCCCCCCCN(C)C(=O)OC1=CC=CC(=C1)[N+](C)(C)C)C(=O)OC2=CC=CC(=C2)[N+](C)(C)C', 'CCC1(CC2CC(C3=C(CCN(C2)C1)C4=CC=CC=C4N3)(C5=C(C=C6C(=C5)C78CCN9C7C(C=CC9)(C(C(C8N6C=O)(C(=O)OC)O)OC(=O)C)CC)OC)C(=O)OC)O', 'CC12CCN(C1N(C3=C2C=C(C=C3)OC(=O)NC)C)C', 'CC12CC[NH+](C1[NH+](C3=C2C=C(C=C3)OC(=O)NC)C)C.C1=CC=C(C(=C1)C(=O)[O-])[O-]', 'CCOC1=C(C=CC(=C1)NC(=O)C)C(=O)OC', 'CN(C)CCN(CC1=CC=C(C=C1)OC)C2=CC=CC=N2.C(=CC(=O)O)C(=O)O', 'C1=CC(=C(C=C1CC(C(=O)O)N)O)O', 'C1=CC(=CC=C1CC(C(=O)O)N)O', 'CC1(C(N2C(S1)C(C2=O)NC(=O)C3=C(C=CC=C3OC)OC)C(=O)O)C', 'CNC(=O)OC1=CC=CC2=CC=CC=C21', 'CC(C)C1=CC(=CC=C1)OC(=O)NC', 'CC12CC[NH+](C1N(C3=C2C=C(C=C3)OC(=O)NC)C)C.CC12CC[NH+](C1N(C3=C2C=C(C=C3)OC(=O)NC)C)C.[O-]S(=O)(=O)[O-]', 'C1=C(C=C(C(=C1I)O)I)CC(C(=O)O)N', 'COC1=CC=CC=C1OCC2CNC(=O)O2', 'C1=CC(=C(C=C1CC(C(=O)O)N)I)O', 'CC1CCC2C(C3(C(CC4(C5CCC6C7(C5(CC4(C3CN2C1)O)OC6(C(CC7)OC(=O)C8=CC(=C(C=C8)OC)OC)O)C)O)O)O)(C)O', 'CCN(CC)CCC1(C2=CC=CC=C2OC1=O)C3=CC=CC=C3', 'CCCCOC1=CC=C(C=C1)C(=O)OCCCN(CC)CC', 'CCOC(=O)OC(C1CC2CCN1CC2C=C)C3=C4C=C(C=CC4=NC=C3)OC', 'CCOC(=O)OC1=C(C=C(C=C1OC)C(=O)OC2CC3CN4CCC5=C(C4CC3C(C2OC)C(=O)OC)NC6=C5C=CC(=C6)OC)OC', 'C1=CC(=C(C(=C1)[N+](=O)[O-])O)C(=O)O', 'CCCOC1=C(C=CC(=C1)N)C(=O)OCCN(CC)CC', 'CC1(C(N2C(S1)C(C2=O)NC(=O)COC3=CC=CC=C3)C(=O)O)C', 'CCN(CC)CCOC(=O)C1=CC=C(C=C1)OCC', 'C1=CC(=C(C=C1[N+](=O)[O-])C(=O)O)O', 'C1=CC=C(C=C1)CC2=CC=C(C=C2)OC(=O)N', 'CN(C)C(=O)OC1=CC=CC(=C1)[N+](C)(C)C.[Br-]', 'CC(=O)OC1=CC=C(C=C1)C2(C3=CC=CC=C3NC2=O)C4=CC=C(C=C4)OC(=O)C', 'CCCCOC1=C(C=CC(=C1)N)C(=O)OCCN(CC)CC', 'CNC(=O)OC1=CC2=C(C=C1)OCO2', 'CN1C2C(=NC=N2)C(=O)N(C1=O)C.C1=CC=C(C(=C1)C(=O)[O-])O.[Ca+2]', 'COC1C(CC2CN3CCC4=C(C3CC2C1C(=O)OC)NC5=CC=CC=C45)OC(=O)C6=CC(=C(C(=C6)OC)OC)OC', 'CN(C)CCC1=CC2=C(C(=C1CC(=O)C3=C(C(=C(C=C3)OC)OC)C(=O)O)OC)OCO2', 'CC(C(=O)NC1C2N(C1=O)C(C(S2)(C)C)C(=O)[O-])OC3=CC=CC=C3.[K+]', 'CC(C(=O)NC1C2N(C1=O)C(C(S2)(C)C)C(=O)O)OC3=CC=CC=C3', 'CC1(C(N2C(S1)C(C2=O)NC(=O)COC3=CC=CC=C3)C(=O)[O-])C.[K+]', 'C1=CC(=C(C=C1N)O)C(=O)[O-].[K+]', 'C1=CC=C(C=C1)OC(=O)C2=C(C=C(C=C2)N)O', 'C1=CC(=C(C=C1N)O)C(=O)[O-].[Ca+2]', 'CCN(CC)CCOC(=O)C1=CC=C(C=C1)OCC.Cl', 'C1=C(C=C(C(=C1I)OC2=CC(=C(C(=C2)I)O)I)I)CC(C(=O)[O-])N.[Na+]', 'C1=C(C=C(C(=C1I)OC2=CC(=C(C(=C2)I)O)I)I)CC(C(=O)O)N', 'CCC1(CC2CC(C3=C(CCN(C2)C1)C4=CC=CC=C4N3)(C5=C(C=C6C(=C5)C78CCN9C7C(C=CC9)(C(C(C8N6C)(C(=O)OC)O)C(=O)OC)CC)OC)C(=O)OC)O.OS(=O)(=O)O', 'CCC1(CC2CC(C3=C(CCN(C2)C1)C4=CC=CC=C4N3)(C5=C(C=C6C(=C5)C78CCN9C7C(C=CC9)(C(C(C8N6C)(C(=O)OC)O)C(=O)OC)CC)OC)C(=O)OC)O', 'CCOC1=C(C2=CC=CC=C2C=C1)C(=O)NC3C4N(C3=O)C(C(S4)(C)C)C(=O)O', 'C1=CC(=CC=C1C(=O)O)NC(=O)OC2=CC=C(C=C2)N(CCCl)CCCl', 'CC(C)[N+](C)(CCOC(=O)C1C2=CC=CC=C2OC3=CC=CC=C13)C(C)C.[Br-]', 'CCN(CC)CC(C)C(C)OC(=O)C1=CC=C(C=C1)OCC(C)C', 'C1=C(C=C(C(=C1I)O)I)CC(C(=O)O)N', 'COC1=C(C=CC(=C1)CC(C(=O)O)N)O', 'CN1CCC23C4C1CC5=C2C(=C(C=C5)O)OC3C(C=C4)O.CN1CCC23C4C1CC5=C2C(=C(C=C5)O)OC3C(C=C4)O.C(C(C(=O)O)O)(C(=O)O)O', 'CC1CC2=C(C=C(C(=C2C(=O)O1)O)C(=O)NC(CC3=CC=CC=C3)C(=O)O)Cl', 'CC1=C(C=CC2=C1OC(=C(C2=O)NC(=O)C3=CC(=C(C=C3)O)CC=C(C)C)O)OC4C(C(C(C(O4)(C)C)OC)OC(=O)N)O', 'CC1=CC(=CC(=C1N(C)C)C)OC(=O)NC', 'CC(C)C1=CC(=CC(=C1)OC(=O)NC)C(C)C', 'CCN(CC)CCOC(=O)COC1=CC=C(C=C1)F.Cl', 'CCN(CC)CCOC(=O)COC1=CC=C(C=C1)F', 'COC1=CC(=CC(=C1OC)OC)C(=O)OCCN2CCN(CC2)CCCN3C4=CC=CC=C4SC5=C3C=C(C=C5)Cl', 'CC[N+](CC)(CC)CCOC(=O)C1=C(C(=C(C=C1)OC)OC)OC.CC1=CC=C(C=C1)S(=O)(=O)[O-]', 'CC[N+](CC)(CC)CCOC(=O)C1=C(C(=C(C=C1)OC)OC)OC']\n"
          ]
        }
      ]
    },
    {
      "cell_type": "code",
      "source": [
        "print(len(results))\n",
        "print(len(input_vector))"
      ],
      "metadata": {
        "colab": {
          "base_uri": "https://localhost:8080/"
        },
        "id": "6L8BnrSjSJAO",
        "outputId": "f354052b-b3e8-4fc6-f2b1-7311e90c167c"
      },
      "execution_count": 19,
      "outputs": [
        {
          "output_type": "stream",
          "name": "stdout",
          "text": [
            "257\n",
            "257\n"
          ]
        }
      ]
    },
    {
      "cell_type": "code",
      "source": [
        "from tensorflow.keras.preprocessing.text import Tokenizer\n",
        "from tensorflow.keras.preprocessing.sequence import pad_sequences\n",
        "import numpy as np\n",
        "\n",
        "def tokenize_sequences(smile_compounds):\n",
        "  tokenizer = Tokenizer(char_level=True)\n",
        "  tokenizer.fit_on_texts(smile_compounds)\n",
        "  sequences = tokenizer.texts_to_sequences(smile_compounds)\n",
        "  max_len = max(map(len, sequences))\n",
        "  num_unique_chars = len(tokenizer.word_index)\n",
        "\n",
        "  # Find the length of the longest SMILES string\n",
        "  max_len = max([len(s) for s in smile_compounds])\n",
        "  print(num_unique_chars)\n",
        "  print(max_len)\n",
        "  padded_sequences = pad_sequences(sequences, maxlen=max_len, padding='post')\n",
        "  return padded_sequences"
      ],
      "metadata": {
        "id": "0EyIOAtA9tYO"
      },
      "execution_count": 20,
      "outputs": []
    },
    {
      "cell_type": "code",
      "source": [
        "print(len(tokenize_sequences(input_vector)))\n",
        "print(input_vector[0])\n",
        "print(len(tokenize_sequences(input_vector[4])))"
      ],
      "metadata": {
        "colab": {
          "base_uri": "https://localhost:8080/"
        },
        "id": "_UtqkOz82yC0",
        "outputId": "443ddb31-a297-4c29-ce31-e821cd0fd39b"
      },
      "execution_count": 21,
      "outputs": [
        {
          "output_type": "stream",
          "name": "stdout",
          "text": [
            "31\n",
            "217\n",
            "257\n",
            "CCOC(=O)C(CC1=CC=C(C=C1)O)NC(=O)C\n",
            "11\n",
            "1\n",
            "84\n"
          ]
        }
      ]
    },
    {
      "cell_type": "code",
      "source": [
        "tokenize_sequences(input_vector).shape"
      ],
      "metadata": {
        "colab": {
          "base_uri": "https://localhost:8080/"
        },
        "id": "g9UByOz2VuyU",
        "outputId": "920e7130-6831-4c97-9c3c-51388232bf4d"
      },
      "execution_count": 22,
      "outputs": [
        {
          "output_type": "stream",
          "name": "stdout",
          "text": [
            "31\n",
            "217\n"
          ]
        },
        {
          "output_type": "execute_result",
          "data": {
            "text/plain": [
              "(257, 217)"
            ]
          },
          "metadata": {},
          "execution_count": 22
        }
      ]
    },
    {
      "cell_type": "code",
      "source": [
        "def one_hot_encoding(dataset, vocab_size):\n",
        "  num_samples, sequence_length = dataset.shape\n",
        "  one_hot_dataset = tf.one_hot(dataset, depth=vocab_size)\n",
        "  return one_hot_dataset"
      ],
      "metadata": {
        "id": "ZhMq05hvWQ4C"
      },
      "execution_count": 23,
      "outputs": []
    },
    {
      "cell_type": "code",
      "source": [
        "import tensorflow as tf\n",
        "import numpy as np\n",
        "\n",
        "def train_gan(generator, discriminator, gan, dataset, latent_dim, epochs=10000, batch_size=100):\n",
        "    # Assuming dataset is already a tf.data.Dataset object\n",
        "    # Prepare the dataset for training: batching and prefetching\n",
        "    dataset = dataset.batch(batch_size).prefetch(tf.data.AUTOTUNE)\n",
        "\n",
        "    for epoch in range(epochs):\n",
        "        # Iterate over batches in the dataset\n",
        "        for real_data in dataset:\n",
        "            # Ensure real_data has the correct shape for discriminator\n",
        "            # real_data shape should be (batch_size, sequence_length, vocab_size)\n",
        "\n",
        "            current_batch_size = real_data.shape[0]\n",
        "\n",
        "            # Generate random noise\n",
        "            noise = np.random.normal(0, 1, size=[current_batch_size, latent_dim])\n",
        "\n",
        "            # Generate fake data from noise\n",
        "            generated_data = generator.predict(noise)\n",
        "\n",
        "            # Labels for real and fake data\n",
        "            real_labels = np.ones((current_batch_size, 1))\n",
        "            fake_labels = np.zeros((current_batch_size, 1))\n",
        "\n",
        "            # Train discriminator on real and fake data\n",
        "            d_loss_real = discriminator.train_on_batch(real_data, real_labels)\n",
        "            d_loss_fake = discriminator.train_on_batch(generated_data, fake_labels)\n",
        "            d_loss = 0.5 * np.add(d_loss_real, d_loss_fake)\n",
        "\n",
        "            # Generate noise for another batch\n",
        "            noise = np.random.normal(0, 1, size=[batch_size, latent_dim])\n",
        "\n",
        "            # Train generator (via combined model)\n",
        "            g_loss = gan.train_on_batch(noise, np.ones(batch_size))\n",
        "\n",
        "        # Print progress\n",
        "        print(f\"Epoch: {epoch} \\t Discriminator Loss: {d_loss} \\t Generator Loss: {g_loss}\")\n",
        "\n",
        "        if epoch % 3 == 0:\n",
        "            # Save models and/or generate and save sample outputs\n",
        "            generator.save('save/generator.keras')\n",
        "            discriminator.save('save/discriminator.keras')\n",
        "            gan.save('save/gan.keras')\n",
        "            pass"
      ],
      "metadata": {
        "id": "MEryJwDSvRQd"
      },
      "execution_count": 24,
      "outputs": []
    },
    {
      "cell_type": "code",
      "source": [
        "final_results = one_hot_encoding(tokenize_sequences(input_vector), 31)\n",
        "print(final_results.shape)\n",
        "final_results = tf.data.Dataset.from_tensor_slices(final_results)\n",
        "# final_results = final_results.numpy()\n",
        "# print(\"Second type of final_results, \", type(final_results))\n",
        "# train_gan(generator, discriminator, gan, final_results, 217)"
      ],
      "metadata": {
        "colab": {
          "base_uri": "https://localhost:8080/"
        },
        "id": "ABwIBIIH_nHy",
        "outputId": "712c76df-6ef0-42bf-bb2a-2f3abb106112"
      },
      "execution_count": 25,
      "outputs": [
        {
          "output_type": "stream",
          "name": "stdout",
          "text": [
            "31\n",
            "217\n",
            "(257, 217, 31)\n"
          ]
        }
      ]
    },
    {
      "cell_type": "code",
      "source": [
        "import torch\n",
        "\n",
        "def save_checkpoint(generator, discriminator, optimizer_G, optimizer_D, epoch, filename=\"gan_checkpoint.pth\"):\n",
        "    \"\"\"Save a checkpoint at the current state.\"\"\"\n",
        "    torch.save({\n",
        "        'epoch': epoch,\n",
        "        'generator_state_dict': generator.state_dict(),\n",
        "        'discriminator_state_dict': discriminator.state_dict(),\n",
        "        'optimizer_G_state_dict': optimizer_G.state_dict(),\n",
        "        'optimizer_D_state_dict': optimizer_D.state_dict(),\n",
        "    }, filename)\n",
        "\n",
        "def load_checkpoint(filename, generator, discriminator, optimizer_G, optimizer_D):\n",
        "    \"\"\"Load a checkpoint and resume training.\"\"\"\n",
        "    checkpoint = torch.load(filename)\n",
        "    generator.load_state_dict(checkpoint['generator_state_dict'])\n",
        "    discriminator.load_state_dict(checkpoint['discriminator_state_dict'])\n",
        "    optimizer_G.load_state_dict(checkpoint['optimizer_G_state_dict'])\n",
        "    optimizer_D.load_state_dict(checkpoint['optimizer_D_state_dict'])\n",
        "    return checkpoint['epoch']\n"
      ],
      "metadata": {
        "id": "qEFphKxNCTf1"
      },
      "execution_count": 26,
      "outputs": []
    },
    {
      "cell_type": "code",
      "source": [
        "def train_gan(generator, discriminator, gan, final_results, epochs, checkpoint_interval=20):\n",
        "    start_epoch = 0\n",
        "    checkpoint_filename = \"gan_checkpoint.pth\"\n",
        "\n",
        "    # Try to load the latest checkpoint if it exists\n",
        "    try:\n",
        "        start_epoch = load_checkpoint(checkpoint_filename, generator, discriminator, optimizer_G, optimizer_D) + 1\n",
        "        print(f\"Resuming training from epoch {start_epoch}\")\n",
        "    except FileNotFoundError:\n",
        "        print(\"No checkpoint found, starting training from scratch\")\n",
        "\n",
        "    for epoch in range(start_epoch, epochs):\n",
        "        # Your training logic here\n",
        "        # Iterate over batches in the dataset\n",
        "        for real_data in dataset:\n",
        "            # Ensure real_data has the correct shape for discriminator\n",
        "            # real_data shape should be (batch_size, sequence_length, vocab_size)\n",
        "\n",
        "            current_batch_size = real_data.shape[0]\n",
        "\n",
        "            # Generate random noise\n",
        "            noise = np.random.normal(0, 1, size=[current_batch_size, latent_dim])\n",
        "\n",
        "            # Generate fake data from noise\n",
        "            generated_data = generator.predict(noise)\n",
        "\n",
        "            # Labels for real and fake data\n",
        "            real_labels = np.ones((current_batch_size, 1))\n",
        "            fake_labels = np.zeros((current_batch_size, 1))\n",
        "\n",
        "            # Train discriminator on real and fake data\n",
        "            d_loss_real = discriminator.train_on_batch(real_data, real_labels)\n",
        "            d_loss_fake = discriminator.train_on_batch(generated_data, fake_labels)\n",
        "            d_loss = 0.5 * np.add(d_loss_real, d_loss_fake)\n",
        "\n",
        "            # Generate noise for another batch\n",
        "            noise = np.random.normal(0, 1, size=[batch_size, latent_dim])\n",
        "\n",
        "            # Train generator (via combined model)\n",
        "            g_loss = gan.train_on_batch(noise, np.ones(batch_size))\n",
        "\n",
        "        # Print progress\n",
        "        print(f\"Epoch: {epoch} \\t Discriminator Loss: {d_loss} \\t Generator Loss: {g_loss}\")\n",
        "\n",
        "        # Save checkpoint at the specified interval\n",
        "        if (epoch + 1) % checkpoint_interval == 0:\n",
        "            save_checkpoint(generator, discriminator, optimizer_G, optimizer_D, epoch, filename=checkpoint_filename)\n",
        "            print(f\"Checkpoint saved at epoch {epoch}\")\n",
        "\n",
        "train_gan(generator, discriminator, gan, final_results, 10000, checkpoint_interval=20)"
      ],
      "metadata": {
        "colab": {
          "base_uri": "https://localhost:8080/",
          "height": 305
        },
        "id": "RvOuznJJCPjd",
        "outputId": "a95876a0-bdb4-479e-a294-9a1971f8ccb5"
      },
      "execution_count": 27,
      "outputs": [
        {
          "output_type": "error",
          "ename": "NameError",
          "evalue": "name 'optimizer_G' is not defined",
          "traceback": [
            "\u001b[0;31m---------------------------------------------------------------------------\u001b[0m",
            "\u001b[0;31mNameError\u001b[0m                                 Traceback (most recent call last)",
            "\u001b[0;32m<ipython-input-27-06ab14587f49>\u001b[0m in \u001b[0;36m<cell line: 50>\u001b[0;34m()\u001b[0m\n\u001b[1;32m     48\u001b[0m             \u001b[0mprint\u001b[0m\u001b[0;34m(\u001b[0m\u001b[0;34mf\"Checkpoint saved at epoch {epoch}\"\u001b[0m\u001b[0;34m)\u001b[0m\u001b[0;34m\u001b[0m\u001b[0;34m\u001b[0m\u001b[0m\n\u001b[1;32m     49\u001b[0m \u001b[0;34m\u001b[0m\u001b[0m\n\u001b[0;32m---> 50\u001b[0;31m \u001b[0mtrain_gan\u001b[0m\u001b[0;34m(\u001b[0m\u001b[0mgenerator\u001b[0m\u001b[0;34m,\u001b[0m \u001b[0mdiscriminator\u001b[0m\u001b[0;34m,\u001b[0m \u001b[0mgan\u001b[0m\u001b[0;34m,\u001b[0m \u001b[0mfinal_results\u001b[0m\u001b[0;34m,\u001b[0m \u001b[0;36m10000\u001b[0m\u001b[0;34m,\u001b[0m \u001b[0mcheckpoint_interval\u001b[0m\u001b[0;34m=\u001b[0m\u001b[0;36m20\u001b[0m\u001b[0;34m)\u001b[0m\u001b[0;34m\u001b[0m\u001b[0;34m\u001b[0m\u001b[0m\n\u001b[0m",
            "\u001b[0;32m<ipython-input-27-06ab14587f49>\u001b[0m in \u001b[0;36mtrain_gan\u001b[0;34m(generator, discriminator, gan, final_results, epochs, checkpoint_interval)\u001b[0m\n\u001b[1;32m      5\u001b[0m     \u001b[0;31m# Try to load the latest checkpoint if it exists\u001b[0m\u001b[0;34m\u001b[0m\u001b[0;34m\u001b[0m\u001b[0m\n\u001b[1;32m      6\u001b[0m     \u001b[0;32mtry\u001b[0m\u001b[0;34m:\u001b[0m\u001b[0;34m\u001b[0m\u001b[0;34m\u001b[0m\u001b[0m\n\u001b[0;32m----> 7\u001b[0;31m         \u001b[0mstart_epoch\u001b[0m \u001b[0;34m=\u001b[0m \u001b[0mload_checkpoint\u001b[0m\u001b[0;34m(\u001b[0m\u001b[0mcheckpoint_filename\u001b[0m\u001b[0;34m,\u001b[0m \u001b[0mgenerator\u001b[0m\u001b[0;34m,\u001b[0m \u001b[0mdiscriminator\u001b[0m\u001b[0;34m,\u001b[0m \u001b[0moptimizer_G\u001b[0m\u001b[0;34m,\u001b[0m \u001b[0moptimizer_D\u001b[0m\u001b[0;34m)\u001b[0m \u001b[0;34m+\u001b[0m \u001b[0;36m1\u001b[0m\u001b[0;34m\u001b[0m\u001b[0;34m\u001b[0m\u001b[0m\n\u001b[0m\u001b[1;32m      8\u001b[0m         \u001b[0mprint\u001b[0m\u001b[0;34m(\u001b[0m\u001b[0;34mf\"Resuming training from epoch {start_epoch}\"\u001b[0m\u001b[0;34m)\u001b[0m\u001b[0;34m\u001b[0m\u001b[0;34m\u001b[0m\u001b[0m\n\u001b[1;32m      9\u001b[0m     \u001b[0;32mexcept\u001b[0m \u001b[0mFileNotFoundError\u001b[0m\u001b[0;34m:\u001b[0m\u001b[0;34m\u001b[0m\u001b[0;34m\u001b[0m\u001b[0m\n",
            "\u001b[0;31mNameError\u001b[0m: name 'optimizer_G' is not defined"
          ]
        }
      ]
    }
  ]
}